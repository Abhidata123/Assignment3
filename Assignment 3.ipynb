{
 "cells": [
  {
   "cell_type": "markdown",
   "id": "e81f40c0-922c-44d9-9491-81c5f7bf62d6",
   "metadata": {},
   "source": [
    "# Q1. Which keyword is used to create a function? Create a function to return a list of odd numbers in the\n",
    "# range of 1 to 25.\n"
   ]
  },
  {
   "cell_type": "code",
   "execution_count": 13,
   "id": "66f44045-5d19-47f0-9a1e-22175c45b22f",
   "metadata": {},
   "outputs": [
    {
     "name": "stdout",
     "output_type": "stream",
     "text": [
      "[1, 3, 5, 7, 9, 11, 13, 15, 17, 19, 21, 23, 25]\n"
     ]
    }
   ],
   "source": [
    "# Ans1. The def keyword is used to create, (or define) a function.\n",
    "def odd_numbers(n):\n",
    "    return [x for x in range(n + 1) if x % 2 == 1]\n",
    "print(odd_numbers(25))\n",
    "\n",
    "\n",
    "        "
   ]
  },
  {
   "cell_type": "code",
   "execution_count": 14,
   "id": "29bd05b8-bbb0-468c-8c38-1e9752afe41a",
   "metadata": {},
   "outputs": [],
   "source": [
    "# Q.1 Why *args and **kwargs is used in some functions? Create a function each for *args and **kwargs\n",
    "#to demonstrate their use."
   ]
  },
  {
   "cell_type": "code",
   "execution_count": 15,
   "id": "790a1c9d-bcc6-42aa-9ae6-dacb35e004b7",
   "metadata": {},
   "outputs": [],
   "source": [
    "# Ans2: You can use *args and **kwargs as arguments of a function when you are unsure about the number of arguments to pass in the functions.\n",
    "\n",
    "def test(*args):  # Data type is a tuple type.\n",
    "    return args"
   ]
  },
  {
   "cell_type": "code",
   "execution_count": 16,
   "id": "5364150f-6d08-4acb-bb82-20e392a7838c",
   "metadata": {},
   "outputs": [
    {
     "data": {
      "text/plain": [
       "(5, 6, 7)"
      ]
     },
     "execution_count": 16,
     "metadata": {},
     "output_type": "execute_result"
    }
   ],
   "source": [
    "test(5,6,7)"
   ]
  },
  {
   "cell_type": "code",
   "execution_count": 20,
   "id": "8c1bb58e-9572-4ec8-86f7-a6a4a08db4f5",
   "metadata": {},
   "outputs": [],
   "source": [
    "# Ans2:   # For creating a dictionary\n",
    "def test1(**kwargs):\n",
    "    return kwargs"
   ]
  },
  {
   "cell_type": "code",
   "execution_count": 21,
   "id": "97c98a6b-1154-4c7f-8e4d-3d084d1a030a",
   "metadata": {},
   "outputs": [
    {
     "data": {
      "text/plain": [
       "{'a': 'Abhi', 'b': 'Saxena', 'c': 345}"
      ]
     },
     "execution_count": 21,
     "metadata": {},
     "output_type": "execute_result"
    }
   ],
   "source": [
    "test1(a = \"Abhi\", b = \"Saxena\", c = 345)"
   ]
  },
  {
   "cell_type": "code",
   "execution_count": 22,
   "id": "4c9b3305-aa0e-4134-b7cb-5f59f2a8a2e5",
   "metadata": {},
   "outputs": [],
   "source": [
    "# Ques 3: Q3. What is an iterator in python? Name the method used to initialise the iterator object and the method\n",
    "#used for iteration. Use these methods to print the first five elements of the given list [2, 4, 6, 8, 10, 12, 14,\n",
    "#16, 18, 20]."
   ]
  },
  {
   "cell_type": "code",
   "execution_count": 68,
   "id": "8f25e181-65c7-4e5c-895b-19f1bae7c83a",
   "metadata": {},
   "outputs": [
    {
     "name": "stdout",
     "output_type": "stream",
     "text": [
      "[2]\n",
      "[2, 4]\n",
      "[2, 4, 6]\n",
      "[2, 4, 6, 8]\n",
      "[2, 4, 6, 8, 10]\n",
      "[2, 4, 6, 8, 10]\n",
      "[2, 4, 6, 8, 10]\n",
      "[2, 4, 6, 8, 10]\n",
      "[2, 4, 6, 8, 10]\n",
      "[2, 4, 6, 8, 10]\n"
     ]
    }
   ],
   "source": [
    "# Ans 3: In Python, an iterator is an object that allows you to iterate over collections of data, such as lists, tuples, dictionaries, and sets..\n",
    "# Iter() method is used to initialize the iterator object so that the instance of this object can be used for iterating.\n",
    "def printValues():\n",
    "    l = list()\n",
    "    for i in range(1,21):\n",
    "        if i%2 ==0:\n",
    "            l.append((i))\n",
    "            print(l[0:5])\n",
    "printValues()\n"
   ]
  },
  {
   "cell_type": "code",
   "execution_count": 42,
   "id": "fb7966a8-4e79-4fba-aa28-d50c55efa885",
   "metadata": {},
   "outputs": [],
   "source": [
    "# Q4. What is a generator function in python? Why yield keyword is used? Give an example of a generator function.\n"
   ]
  },
  {
   "cell_type": "code",
   "execution_count": 65,
   "id": "bc5024de-49dc-445b-b531-febae22cb920",
   "metadata": {},
   "outputs": [
    {
     "data": {
      "text/plain": [
       "range(0, 5)"
      ]
     },
     "execution_count": 65,
     "metadata": {},
     "output_type": "execute_result"
    }
   ],
   "source": [
    "# Ans 4:A Python generator function allows you to declare a function that behaves like an iterator, providing a faster and easier way to create iterators.\n",
    "# In simpler words, the yield keyword will convert an expression that is specified along with it to a generator object and return it to the caller.\n",
    "\n",
    "range(5)"
   ]
  },
  {
   "cell_type": "code",
   "execution_count": 67,
   "id": "306fe14f-d8ff-4da6-9a85-b4e5ac4dd524",
   "metadata": {},
   "outputs": [
    {
     "data": {
      "text/plain": [
       "[0, 1, 2, 3, 4]"
      ]
     },
     "execution_count": 67,
     "metadata": {},
     "output_type": "execute_result"
    }
   ],
   "source": [
    "list(range(5))"
   ]
  },
  {
   "cell_type": "code",
   "execution_count": null,
   "id": "860348bb-2831-49c0-8ae1-74e60deaa370",
   "metadata": {},
   "outputs": [],
   "source": []
  },
  {
   "cell_type": "code",
   "execution_count": 47,
   "id": "d2f8158a-5646-414b-9be9-205fc7cae339",
   "metadata": {},
   "outputs": [],
   "source": [
    "# Ques 5.Create a generator function for prime numbers less than 1000. Use the next() method to print the\n",
    "#first 20 prime numbers."
   ]
  },
  {
   "cell_type": "code",
   "execution_count": 64,
   "id": "3a31d011-f670-4b64-bb10-f5ba5b452cbe",
   "metadata": {},
   "outputs": [
    {
     "name": "stdin",
     "output_type": "stream",
     "text": [
      "Enter the starting number 1\n",
      "Enter the ending number 1000\n"
     ]
    },
    {
     "name": "stdout",
     "output_type": "stream",
     "text": [
      "The prime numbers in this range are:  [2, 3, 5, 7, 11, 13, 17, 19, 23, 29, 31, 37, 41, 43, 47, 53, 59, 61, 67, 71, 73, 79, 83, 89, 97, 101, 103, 107, 109, 113, 127, 131, 137, 139, 149, 151, 157, 163, 167, 173, 179, 181, 191, 193, 197, 199, 211, 223, 227, 229, 233, 239, 241, 251, 257, 263, 269, 271, 277, 281, 283, 293, 307, 311, 313, 317, 331, 337, 347, 349, 353, 359, 367, 373, 379, 383, 389, 397, 401, 409, 419, 421, 431, 433, 439, 443, 449, 457, 461, 463, 467, 479, 487, 491, 499, 503, 509, 521, 523, 541, 547, 557, 563, 569, 571, 577, 587, 593, 599, 601, 607, 613, 617, 619, 631, 641, 643, 647, 653, 659, 661, 673, 677, 683, 691, 701, 709, 719, 727, 733, 739, 743, 751, 757, 761, 769, 773, 787, 797, 809, 811, 821, 823, 827, 829, 839, 853, 857, 859, 863, 877, 881, 883, 887, 907, 911, 919, 929, 937, 941, 947, 953, 967, 971, 977, 983, 991, 997]\n"
     ]
    }
   ],
   "source": [
    "def prime(x, y):\n",
    "    prime_list = []\n",
    "    for i in range(x, y):\n",
    "        if i == 0 or i == 1:\n",
    "            continue\n",
    "        else:\n",
    "            for j in range(2, int(i/2)+1):\n",
    "                if i % j == 0:\n",
    "                    break\n",
    "            else:\n",
    "                prime_list.append(i)\n",
    "    return prime_list\n",
    "starting_range = int(input(\"Enter the starting number\"))\n",
    "ending_range = int(input(\"Enter the ending number\"))\n",
    "lst = prime(starting_range, ending_range)\n",
    "if len(lst) == 0:\n",
    "    print(\"There are no prime numbers in this range\")\n",
    "else:\n",
    "    print(\"The prime numbers in this range are: \", lst)"
   ]
  },
  {
   "cell_type": "code",
   "execution_count": 56,
   "id": "40cd608d-3af4-45a3-bb52-602f8400697a",
   "metadata": {},
   "outputs": [
    {
     "ename": "TypeError",
     "evalue": "prime_generator() takes 0 positional arguments but 1 was given",
     "output_type": "error",
     "traceback": [
      "\u001b[0;31m---------------------------------------------------------------------------\u001b[0m",
      "\u001b[0;31mTypeError\u001b[0m                                 Traceback (most recent call last)",
      "Cell \u001b[0;32mIn[56], line 1\u001b[0m\n\u001b[0;32m----> 1\u001b[0m \u001b[43mprime_generator\u001b[49m\u001b[43m(\u001b[49m\u001b[38;5;241;43m100\u001b[39;49m\u001b[43m)\u001b[49m\n",
      "\u001b[0;31mTypeError\u001b[0m: prime_generator() takes 0 positional arguments but 1 was given"
     ]
    }
   ],
   "source": []
  },
  {
   "cell_type": "code",
   "execution_count": 16,
   "id": "79985f95-e692-443f-b82e-96a3e36eff02",
   "metadata": {},
   "outputs": [],
   "source": [
    "# Ques 6. Write a python program to print the first 10 Fibonacci numbers using a while loop."
   ]
  },
  {
   "cell_type": "code",
   "execution_count": null,
   "id": "6bcc9313-39b8-4c40-b98d-8b420fff4abb",
   "metadata": {},
   "outputs": [],
   "source": []
  },
  {
   "cell_type": "code",
   "execution_count": 17,
   "id": "757c43b6-a49f-4047-8c9a-ed033144fa02",
   "metadata": {},
   "outputs": [
    {
     "name": "stdin",
     "output_type": "stream",
     "text": [
      "Enter the number for which you are looking for 10\n"
     ]
    },
    {
     "name": "stdout",
     "output_type": "stream",
     "text": [
      "0\n",
      "1\n",
      "1\n",
      "2\n",
      "3\n",
      "5\n",
      "8\n",
      "13\n",
      "21\n",
      "34\n"
     ]
    }
   ],
   "source": [
    "number = int(input(\"Enter the number for which you are looking for\"))\n",
    "a, b = 0,1\n",
    "counter = 0\n",
    "while counter < number:\n",
    "    print(a)\n",
    "    c = a+b\n",
    "    a = b\n",
    "    b = c\n",
    "    counter = counter + 1"
   ]
  },
  {
   "cell_type": "code",
   "execution_count": 18,
   "id": "c31c970c-7104-4b31-8b56-3a923682032e",
   "metadata": {},
   "outputs": [],
   "source": [
    "# Q7. Write a List Comprehension to iterate through the given string: ‘pwskills’.\n",
    "# Expected output: ['p', 'w', 's', 'k', 'i', 'l', 'l', 's']"
   ]
  },
  {
   "cell_type": "code",
   "execution_count": 27,
   "id": "6858bd0e-f515-4895-8d63-c17050ef1ee5",
   "metadata": {},
   "outputs": [
    {
     "data": {
      "text/plain": [
       "[\"p' 'w' 's' 'k' 'i' 'l' 'l' 's\"]"
      ]
     },
     "execution_count": 27,
     "metadata": {},
     "output_type": "execute_result"
    }
   ],
   "source": [
    "string = \"pwskills\"\n",
    "\n",
    "[\"' '\".join(string.replace(\" \", \"\"))]"
   ]
  },
  {
   "cell_type": "code",
   "execution_count": 28,
   "id": "e5d9a776-5f9a-442a-9ce5-89fac476a57f",
   "metadata": {},
   "outputs": [],
   "source": [
    "# Q8. Write a python program to check whether a given number is Palindrome or not using a while loop."
   ]
  },
  {
   "cell_type": "code",
   "execution_count": 31,
   "id": "b13321d5-fd3b-40dc-9cf5-54bd5229e5e6",
   "metadata": {},
   "outputs": [
    {
     "name": "stdin",
     "output_type": "stream",
     "text": [
      "Enter a letter: civic\n"
     ]
    },
    {
     "name": "stdout",
     "output_type": "stream",
     "text": [
      "The letter is a palindrome\n"
     ]
    }
   ],
   "source": [
    "string=input((\"Enter a letter:\"))  \n",
    "if(string==string[::-1]):  \n",
    "    print(\"The letter is a palindrome\")  \n",
    "else:  \n",
    "      print(\"The letter is not a palindrome\")  "
   ]
  },
  {
   "cell_type": "code",
   "execution_count": 39,
   "id": "66b3fc5a-0f50-4d87-b4ae-ea23efc22489",
   "metadata": {},
   "outputs": [
    {
     "name": "stdin",
     "output_type": "stream",
     "text": [
      "Enter a value: 1001\n"
     ]
    },
    {
     "name": "stdout",
     "output_type": "stream",
     "text": [
      "This value is a palindrome number!\n"
     ]
    }
   ],
   "source": [
    "Num = int(input(\"Enter a value:\"))  \n",
    "Temp = Num  \n",
    "Rev = 0  \n",
    "while(Num > 0):  \n",
    "    dig = Num % 10  \n",
    "    Rev = Rev * 10 + dig  \n",
    "    Num = Num // 10  \n",
    "if(Temp == Rev):  \n",
    "    print(\"This value is a palindrome number!\")  \n",
    "else:  \n",
    "    print(\"This value is not a palindrome number!\") "
   ]
  },
  {
   "cell_type": "code",
   "execution_count": null,
   "id": "77b8de20-1d33-4692-bd98-ce16ea33c528",
   "metadata": {},
   "outputs": [],
   "source": [
    "# Ques 9.Write a code to print odd numbers from 1 to 100 using list comprehension."
   ]
  },
  {
   "cell_type": "code",
   "execution_count": 46,
   "id": "30f11dd3-ec2d-4aeb-9ebd-a5b7a5cd0a48",
   "metadata": {},
   "outputs": [
    {
     "name": "stdin",
     "output_type": "stream",
     "text": [
      "Enter the desired number 100\n"
     ]
    },
    {
     "data": {
      "text/plain": [
       "[1,\n",
       " 3,\n",
       " 5,\n",
       " 7,\n",
       " 9,\n",
       " 11,\n",
       " 13,\n",
       " 15,\n",
       " 17,\n",
       " 19,\n",
       " 21,\n",
       " 23,\n",
       " 25,\n",
       " 27,\n",
       " 29,\n",
       " 31,\n",
       " 33,\n",
       " 35,\n",
       " 37,\n",
       " 39,\n",
       " 41,\n",
       " 43,\n",
       " 45,\n",
       " 47,\n",
       " 49,\n",
       " 51,\n",
       " 53,\n",
       " 55,\n",
       " 57,\n",
       " 59,\n",
       " 61,\n",
       " 63,\n",
       " 65,\n",
       " 67,\n",
       " 69,\n",
       " 71,\n",
       " 73,\n",
       " 75,\n",
       " 77,\n",
       " 79,\n",
       " 81,\n",
       " 83,\n",
       " 85,\n",
       " 87,\n",
       " 89,\n",
       " 91,\n",
       " 93,\n",
       " 95,\n",
       " 97,\n",
       " 99]"
      ]
     },
     "execution_count": 46,
     "metadata": {},
     "output_type": "execute_result"
    }
   ],
   "source": [
    "[ i for i in range(1,int(input(\"Enter the desired number\"))) if i%2 != 0]"
   ]
  },
  {
   "cell_type": "code",
   "execution_count": null,
   "id": "9a5657ac-4e80-40de-8763-8e9133b86d1c",
   "metadata": {},
   "outputs": [],
   "source": []
  }
 ],
 "metadata": {
  "kernelspec": {
   "display_name": "Python 3 (ipykernel)",
   "language": "python",
   "name": "python3"
  },
  "language_info": {
   "codemirror_mode": {
    "name": "ipython",
    "version": 3
   },
   "file_extension": ".py",
   "mimetype": "text/x-python",
   "name": "python",
   "nbconvert_exporter": "python",
   "pygments_lexer": "ipython3",
   "version": "3.10.8"
  }
 },
 "nbformat": 4,
 "nbformat_minor": 5
}
